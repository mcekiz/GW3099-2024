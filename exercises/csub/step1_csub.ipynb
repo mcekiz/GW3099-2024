{
 "cells": [
  {
   "cell_type": "markdown",
   "id": "74c4071a-e428-47dd-b8ec-4733d09f80b8",
   "metadata": {},
   "source": [
    "# U.S. Geological Survey Class GW3099\n",
    "Advanced Modeling of Groundwater Flow (GW3099)\\\n",
    "Boise, Idaho\\\n",
    "September 16 - 20, 2024\n",
    "\n",
    "![title](../../images/ClassLocation.jpg)\n",
    "\n",
    "# One-Dimensional Compaction in a Three-Dimensional Flow Field"
   ]
  },
  {
   "cell_type": "markdown",
   "id": "eda5391a-3b1d-4935-b5f7-487fb5144e4e",
   "metadata": {},
   "source": [
    "This problem is based on the problem presented in the SUB-WT report ([Leake and Galloway, 2007](https://doi.org/10.3133/tm6A23)) and represent groundwater development in a hypothetical aquifer that includes some features typical of basin-fill aquifers in an arid or semi-arid environment.\n",
    "\n",
    "<div>\n",
    "<img src=\"attachment:9f3f72f4-e79d-4a4c-801c-02e9a81b4486.png\" width=\"750\"/>\n",
    "</div>"
   ]
  },
  {
   "cell_type": "code",
   "execution_count": null,
   "id": "37f3bbd3-9df3-4628-b97b-22ebf85dc7c1",
   "metadata": {},
   "outputs": [],
   "source": [
    "import pathlib as pl\n",
    "\n",
    "import flopy\n",
    "import matplotlib.pyplot as plt\n",
    "import numpy as np\n",
    "import pooch"
   ]
  },
  {
   "cell_type": "code",
   "execution_count": null,
   "id": "c5d4a711-96e8-4b39-868d-2edc4c999a57",
   "metadata": {},
   "outputs": [],
   "source": [
    "name = \"csub-ex2\"\n",
    "ws = pl.Path(f\"temp/{name}\")"
   ]
  },
  {
   "cell_type": "markdown",
   "id": "72a8f9d0-4be2-4540-bc83-66642ff63074",
   "metadata": {
    "execution": {
     "iopub.execute_input": "2024-08-29T17:25:46.778581Z",
     "iopub.status.busy": "2024-08-29T17:25:46.778254Z",
     "iopub.status.idle": "2024-08-29T17:25:46.789059Z",
     "shell.execute_reply": "2024-08-29T17:25:46.788022Z",
     "shell.execute_reply.started": "2024-08-29T17:25:46.778555Z"
    }
   },
   "source": [
    "## Model Setup"
   ]
  },
  {
   "cell_type": "code",
   "execution_count": null,
   "id": "65dd9872-cbac-4bb6-9781-658c82699108",
   "metadata": {},
   "outputs": [],
   "source": [
    "length_units = \"meters\"\n",
    "time_units = \"days\""
   ]
  },
  {
   "cell_type": "code",
   "execution_count": null,
   "id": "69816e71-d5e2-43a4-b156-60a8d280744b",
   "metadata": {},
   "outputs": [],
   "source": [
    "nper = 3\n",
    "nlay = 4\n",
    "nrow = 20\n",
    "ncol = 15\n",
    "delr = 2000.0\n",
    "delc = 2000.0\n",
    "top = 150.0\n",
    "botm = [50.0, -100.0, -150.0, -350.0]"
   ]
  },
  {
   "cell_type": "code",
   "execution_count": null,
   "id": "9e3f7aa9-4e3f-4b68-a2ef-0af3614b4e2e",
   "metadata": {},
   "outputs": [],
   "source": [
    "tdis_ds = (\n",
    "    (0.0, 1, 1.0),\n",
    "    (21915.0, 60, 1.0),\n",
    "    (21915.0, 60, 1.0),\n",
    ")"
   ]
  },
  {
   "cell_type": "code",
   "execution_count": null,
   "id": "2ec23785-9ca0-4d71-bec5-6a08b0091d78",
   "metadata": {},
   "outputs": [],
   "source": [
    "strt = 100.0"
   ]
  },
  {
   "cell_type": "code",
   "execution_count": null,
   "id": "ee6d90b1-fb7c-4bff-8444-fa80ecae4002",
   "metadata": {},
   "outputs": [],
   "source": [
    "# npf data\n",
    "icelltype = [1, 0, 0, 0]\n",
    "k11 = [4.0, 4.0, 0.01, 4.0]\n",
    "k33 = [0.4, 0.4, 0.01, 0.4]"
   ]
  },
  {
   "cell_type": "code",
   "execution_count": null,
   "id": "2122002b-de42-4528-aadb-50bbe888ddeb",
   "metadata": {},
   "outputs": [],
   "source": [
    "# storage properties\n",
    "sy = [0.3, 0.3, 0.4, 0.3]  # Specific yield (unitless)\n",
    "gammaw = 9806.65  # Compressibility of water (Newtons/m^3)\n",
    "beta = 4.6612e-10  # Specific gravity of water (1/Pa)\n",
    "sgm = [1.77, 1.77, 1.60, 1.77]  # Specific gravity of moist soils (unitless)\n",
    "sgs = [\n",
    "    2.06,\n",
    "    2.05,\n",
    "    1.94,\n",
    "    2.06,\n",
    "]  # Specific gravity of saturated soils (unitless)\n",
    "cg_theta = [\n",
    "    0.32,\n",
    "    0.32,\n",
    "    0.45,\n",
    "    0.32,\n",
    "]  # Coarse-grained material porosity (unitless)\n",
    "cg_ske = [0.005, 0.005, 0.01, 0.005]  # Elastic specific storage (1/m)\n",
    "ib_thick = [45.0, 70.0, 50.0, 90.0]  # Interbed thickness (m)\n",
    "ib_theta = 0.45  # Interbed initial porosity (unitless)\n",
    "ib_cr = 0.01  # Interbed recompression index (unitless)\n",
    "ib_cv = 0.25  # Interbed compression index (unitless)\n",
    "stress_offset = 15.0  # Initial preconsolidation stress offset (m)"
   ]
  },
  {
   "cell_type": "code",
   "execution_count": null,
   "id": "6aa5dd71-4aa1-4e0a-992e-b454254775a7",
   "metadata": {},
   "outputs": [],
   "source": [
    "# Define the active domain and create idomain array\n",
    "fname = \"idomain.txt\"\n",
    "fpath = pooch.retrieve(\n",
    "    url=f\"https://github.com/MODFLOW-USGS/modflow6-examples/raw/master/data/ex-gwf-csub-p04/{fname}\",\n",
    "    fname=fname,\n",
    "    path=ws,\n",
    "    known_hash=\"md5:2f05a27b6f71e564c0d3616e3fd00ac8\",\n",
    ")\n",
    "\n",
    "ib = np.loadtxt(fpath, dtype=int)"
   ]
  },
  {
   "cell_type": "code",
   "execution_count": null,
   "id": "348e244d-95e5-43ec-93c5-67d479f1f6d8",
   "metadata": {},
   "outputs": [],
   "source": [
    "# set ib to 3 in chd locations\n",
    "chd_locs = (\n",
    "    np.array([nrow - 1, nrow - 1], dtype=int),\n",
    "    np.array([7, 8], dtype=int),\n",
    ")\n",
    "ib[chd_locs] = 3"
   ]
  },
  {
   "cell_type": "code",
   "execution_count": null,
   "id": "fc368b5c-3fb2-4074-8fd0-ac6af808aeea",
   "metadata": {},
   "outputs": [],
   "source": [
    "plt.imshow(ib)\n",
    "plt.colorbar()"
   ]
  },
  {
   "cell_type": "code",
   "execution_count": null,
   "id": "0340287f-2f91-4568-a129-93e92c003d2e",
   "metadata": {},
   "outputs": [],
   "source": [
    "# create a 3-D idomain array\n",
    "idomain = np.array([ib for i in range(nlay)])"
   ]
  },
  {
   "cell_type": "code",
   "execution_count": null,
   "id": "c0b06488-71be-48e9-8b34-fac508e012ac",
   "metadata": {},
   "outputs": [],
   "source": [
    "idomain.shape, ib.shape"
   ]
  },
  {
   "cell_type": "code",
   "execution_count": null,
   "id": "1217e996-ee01-4663-b3fa-a05c4348186c",
   "metadata": {},
   "outputs": [],
   "source": [
    "# Constant head boundary cells\n",
    "c6 = []\n",
    "for k in range(nlay):\n",
    "    for i, j in zip(chd_locs[0], chd_locs[1]):\n",
    "        c6.append([k, int(i), int(j), strt])"
   ]
  },
  {
   "cell_type": "code",
   "execution_count": null,
   "id": "b91aa3a9-58db-400e-8f0b-9d7a4a39aa2a",
   "metadata": {},
   "outputs": [],
   "source": [
    "c6"
   ]
  },
  {
   "cell_type": "code",
   "execution_count": null,
   "id": "8b2ff886-9093-4494-9c7e-a257a7151e27",
   "metadata": {},
   "outputs": [],
   "source": [
    "# Recharge boundary cells\n",
    "rch_rate = 5.5e-4\n",
    "rch6 = []\n",
    "idxs = np.asarray(ib == 2).nonzero()\n",
    "for i, j in zip(idxs[0], idxs[1]):\n",
    "    rch6.append([0, int(i), int(j), rch_rate])"
   ]
  },
  {
   "cell_type": "code",
   "execution_count": null,
   "id": "77ff0599-d195-4170-8b51-66591345043a",
   "metadata": {},
   "outputs": [],
   "source": [
    "# Well boundary cells\n",
    "well_locs = (\n",
    "    (1, 8, 9),\n",
    "    (3, 11, 6),\n",
    ")\n",
    "well_rates = (\n",
    "    -72000,\n",
    "    0.0,\n",
    ")\n",
    "wel6 = {}\n",
    "for idx, q in enumerate(well_rates):\n",
    "    spd = []\n",
    "    for k, i, j in well_locs:\n",
    "        spd.append([k, i, j, q])\n",
    "    wel6[idx + 1] = spd"
   ]
  },
  {
   "cell_type": "code",
   "execution_count": null,
   "id": "32a91e2f-d3f1-4de9-8a6a-25c30003baab",
   "metadata": {},
   "outputs": [],
   "source": [
    "# Create interbed package data\n",
    "idxs = np.asarray((ib > 0) & (ib < 3)).nonzero()\n",
    "icsubno = 0\n",
    "csub_pakdata = []\n",
    "for k in range(nlay):\n",
    "    for i, j in zip(idxs[0], idxs[1]):\n",
    "        boundname = f\"{k + 1:02d}_{i + 1:02d}_{j + 1:02d}\"\n",
    "        ib_lst = [\n",
    "            icsubno,\n",
    "            (k, int(i), int(j)),\n",
    "            \"nodelay\",\n",
    "            stress_offset,\n",
    "            ib_thick[k],\n",
    "            1.0,\n",
    "            ib_cv,\n",
    "            ib_cr,\n",
    "            ib_theta,\n",
    "            999.0,\n",
    "            999.0,\n",
    "            boundname,\n",
    "        ]\n",
    "        csub_pakdata.append(ib_lst)\n",
    "        icsubno += 1"
   ]
  },
  {
   "cell_type": "markdown",
   "id": "3f91c303-9a21-4f7e-8d19-10863e7068ef",
   "metadata": {},
   "source": [
    "## Create the model files"
   ]
  },
  {
   "cell_type": "code",
   "execution_count": null,
   "id": "6c64f403-4144-4330-9c10-b8aee78c448a",
   "metadata": {},
   "outputs": [],
   "source": [
    "sim = flopy.mf6.MFSimulation(sim_name=name, sim_ws=ws)\n",
    "flopy.mf6.ModflowTdis(\n",
    "    sim, nper=nper, perioddata=tdis_ds, time_units=time_units\n",
    ")\n",
    "flopy.mf6.ModflowIms(\n",
    "    sim,\n",
    "    complexity=\"simple\",\n",
    "    outer_dvclose=1e-8,\n",
    "    linear_acceleration=\"bicgstab\",\n",
    "    inner_dvclose=1e-9,\n",
    "    relaxation_factor=0.97,\n",
    "    outer_maximum=200,\n",
    "    inner_maximum=500,\n",
    "    rcloserecord=f\"{1e-6} strict\",\n",
    ")"
   ]
  },
  {
   "cell_type": "code",
   "execution_count": null,
   "id": "5427c6a2-bbc4-4a45-ac4c-54a9e46f0992",
   "metadata": {},
   "outputs": [],
   "source": [
    "gwf = flopy.mf6.ModflowGwf(\n",
    "    sim, modelname=name, save_flows=True, newtonoptions=\"newton\"\n",
    ")\n",
    "flopy.mf6.ModflowGwfdis(\n",
    "    gwf,\n",
    "    length_units=length_units,\n",
    "    nlay=nlay,\n",
    "    nrow=nrow,\n",
    "    ncol=ncol,\n",
    "    delr=delr,\n",
    "    delc=delc,\n",
    "    top=top,\n",
    "    botm=botm,\n",
    "    idomain=idomain,\n",
    ")\n",
    "# gwf obs\n",
    "flopy.mf6.ModflowUtlobs(\n",
    "    gwf,\n",
    "    print_input=True,\n",
    "    continuous={\n",
    "        f\"{name}.gwf.obs.csv\": [\n",
    "            (\"h1l1\", \"HEAD\", (0, 8, 9)),\n",
    "            (\"h1l2\", \"HEAD\", (1, 8, 9)),\n",
    "            (\"h1l3\", \"HEAD\", (2, 8, 9)),\n",
    "            (\"h1l4\", \"HEAD\", (3, 8, 9)),\n",
    "            (\"h2l1\", \"HEAD\", (0, 11, 6)),\n",
    "            (\"h2l2\", \"HEAD\", (1, 11, 6)),\n",
    "            (\"h3l2\", \"HEAD\", (2, 11, 6)),\n",
    "            (\"h4l2\", \"HEAD\", (3, 11, 6)),\n",
    "        ]\n",
    "    },\n",
    ")\n",
    "\n",
    "flopy.mf6.ModflowGwfic(gwf, strt=strt)\n",
    "flopy.mf6.ModflowGwfnpf(\n",
    "    gwf,\n",
    "    icelltype=icelltype,\n",
    "    k=k11,\n",
    "    save_specific_discharge=True,\n",
    ")\n",
    "flopy.mf6.ModflowGwfsto(\n",
    "    gwf,\n",
    "    iconvert=icelltype,\n",
    "    ss=0.0,\n",
    "    sy=sy,\n",
    "    steady_state={0: True},\n",
    "    transient={1: True},\n",
    ")"
   ]
  },
  {
   "cell_type": "code",
   "execution_count": null,
   "id": "1f3fe6b6-fcb3-4146-bab4-e449206ff055",
   "metadata": {},
   "outputs": [],
   "source": [
    "csub = flopy.mf6.ModflowGwfcsub(\n",
    "    gwf,\n",
    "    print_input=True,\n",
    "    save_flows=True,\n",
    "    compression_indices=True,\n",
    "    update_material_properties=True,\n",
    "    boundnames=True,\n",
    "    ninterbeds=len(csub_pakdata),\n",
    "    sgm=sgm,\n",
    "    sgs=sgs,\n",
    "    cg_theta=cg_theta,\n",
    "    cg_ske_cr=cg_ske,\n",
    "    beta=beta,\n",
    "    gammaw=gammaw,\n",
    "    packagedata=csub_pakdata,\n",
    ")"
   ]
  },
  {
   "cell_type": "code",
   "execution_count": null,
   "id": "f14ae7f1-ec04-448b-9ccc-188b6d8b792d",
   "metadata": {},
   "outputs": [],
   "source": [
    "opth = f\"{name}.csub.obs\"\n",
    "csub_csv = opth + \".csv\"\n",
    "obs = [\n",
    "    (\"w1l1\", \"interbed-compaction\", \"01_09_10\"),\n",
    "    (\"w1l2\", \"interbed-compaction\", \"02_09_10\"),\n",
    "    (\"w1l3\", \"interbed-compaction\", \"03_09_10\"),\n",
    "    (\"w1l4\", \"interbed-compaction\", \"04_09_10\"),\n",
    "    (\"w2l1\", \"interbed-compaction\", \"01_12_07\"),\n",
    "    (\"w2l2\", \"interbed-compaction\", \"02_12_07\"),\n",
    "    (\"w2l3\", \"interbed-compaction\", \"03_12_07\"),\n",
    "    (\"w2l4\", \"interbed-compaction\", \"04_12_07\"),\n",
    "    (\"s1l1\", \"coarse-compaction\", (0, 8, 9)),\n",
    "    (\"s1l2\", \"coarse-compaction\", (1, 8, 9)),\n",
    "    (\"s1l3\", \"coarse-compaction\", (2, 8, 9)),\n",
    "    (\"s1l4\", \"coarse-compaction\", (3, 8, 9)),\n",
    "    (\"s2l1\", \"coarse-compaction\", (0, 11, 6)),\n",
    "    (\"s2l2\", \"coarse-compaction\", (1, 11, 6)),\n",
    "    (\"s2l3\", \"coarse-compaction\", (2, 11, 6)),\n",
    "    (\"s2l4\", \"coarse-compaction\", (3, 11, 6)),\n",
    "    (\"c1l1\", \"compaction-cell\", (0, 8, 9)),\n",
    "    (\"c1l2\", \"compaction-cell\", (1, 8, 9)),\n",
    "    (\"c1l3\", \"compaction-cell\", (2, 8, 9)),\n",
    "    (\"c1l4\", \"compaction-cell\", (3, 8, 9)),\n",
    "    (\"c2l1\", \"compaction-cell\", (0, 11, 6)),\n",
    "    (\"c2l2\", \"compaction-cell\", (1, 11, 6)),\n",
    "    (\"c2l3\", \"compaction-cell\", (2, 11, 6)),\n",
    "    (\"c2l4\", \"compaction-cell\", (3, 11, 6)),\n",
    "    (\"w2l4q\", \"csub-cell\", (3, 11, 6)),\n",
    "    (\"gs1\", \"gstress-cell\", (0, 8, 9)),\n",
    "    (\"es1\", \"estress-cell\", (0, 8, 9)),\n",
    "    (\"pc1\", \"preconstress-cell\", (0, 8, 9)),\n",
    "    (\"gs2\", \"gstress-cell\", (1, 8, 9)),\n",
    "    (\"es2\", \"estress-cell\", (1, 8, 9)),\n",
    "    (\"pc2\", \"preconstress-cell\", (1, 8, 9)),\n",
    "    (\"gs3\", \"gstress-cell\", (2, 8, 9)),\n",
    "    (\"es3\", \"estress-cell\", (2, 8, 9)),\n",
    "    (\"pc3\", \"preconstress-cell\", (2, 8, 9)),\n",
    "    (\"gs4\", \"gstress-cell\", (3, 8, 9)),\n",
    "    (\"es4\", \"estress-cell\", (3, 8, 9)),\n",
    "    (\"pc4\", \"preconstress-cell\", (3, 8, 9)),\n",
    "    (\"sk1l2\", \"ske-cell\", (1, 8, 9)),\n",
    "    (\"sk2l4\", \"ske-cell\", (3, 11, 6)),\n",
    "    (\"t1l2\", \"theta\", \"02_09_10\"),\n",
    "    (\"w1qie\", \"elastic-csub\", \"02_09_10\"),\n",
    "    (\"w1qii\", \"inelastic-csub\", \"02_09_10\"),\n",
    "    (\"w1qaq\", \"coarse-csub\", (1, 8, 9)),\n",
    "    (\"w1qt\", \"csub-cell\", (1, 8, 9)),\n",
    "    (\"w1wc\", \"wcomp-csub-cell\", (1, 8, 9)),\n",
    "    (\"w2qie\", \"elastic-csub\", \"04_12_07\"),\n",
    "    (\"w2qii\", \"inelastic-csub\", \"04_12_07\"),\n",
    "    (\"w2qaq\", \"coarse-csub\", (3, 11, 6)),\n",
    "    (\"w2qt \", \"csub-cell\", (3, 11, 6)),\n",
    "    (\"w2wc\", \"wcomp-csub-cell\", (3, 11, 6)),\n",
    "]\n",
    "orecarray = {csub_csv: obs}\n",
    "csub.obs.initialize(filename=opth, print_input=True, continuous=orecarray)"
   ]
  },
  {
   "cell_type": "code",
   "execution_count": null,
   "id": "e9f742b4-cd86-4abb-9ba2-33ce9a9f09e6",
   "metadata": {},
   "outputs": [],
   "source": [
    "flopy.mf6.ModflowGwfchd(\n",
    "    gwf, stress_period_data={0: c6}, maxbound=len(c6), pname=\"chd-1\"\n",
    ")"
   ]
  },
  {
   "cell_type": "code",
   "execution_count": null,
   "id": "b171e391-f354-45a4-b756-4324efd2984a",
   "metadata": {},
   "outputs": [],
   "source": [
    "flopy.mf6.ModflowGwfrch(\n",
    "    gwf, stress_period_data={0: rch6}, maxbound=len(rch6), pname=\"rch-1\"\n",
    ")"
   ]
  },
  {
   "cell_type": "code",
   "execution_count": null,
   "id": "126c03b1-33dc-4379-8831-02736562e368",
   "metadata": {},
   "outputs": [],
   "source": [
    "flopy.mf6.ModflowGwfwel(\n",
    "    gwf, stress_period_data=wel6, maxbound=len(wel6), pname=\"wel-1\"\n",
    ")"
   ]
  },
  {
   "cell_type": "code",
   "execution_count": null,
   "id": "476014ac-bdd9-4921-8416-dc13a55559d7",
   "metadata": {},
   "outputs": [],
   "source": [
    "flopy.mf6.ModflowGwfoc(\n",
    "    gwf,\n",
    "    head_filerecord=f\"{name}.hds\",\n",
    "    budget_filerecord=f\"{name}.cbc\",\n",
    "    printrecord=[(\"BUDGET\", \"ALL\")],\n",
    "    saverecord=[(\"BUDGET\", \"ALL\"), (\"HEAD\", \"ALL\")],\n",
    ")"
   ]
  },
  {
   "cell_type": "markdown",
   "id": "3bac2b6c-fb6d-46d6-bde9-13d641357869",
   "metadata": {},
   "source": [
    "### Write the model files"
   ]
  },
  {
   "cell_type": "code",
   "execution_count": null,
   "id": "142cf91e-fc32-40b0-9357-f6629fb02f93",
   "metadata": {},
   "outputs": [],
   "source": [
    "sim.write_simulation()"
   ]
  },
  {
   "cell_type": "markdown",
   "id": "2b9a4570-1f50-4a50-9cc9-aeb3db4f1e63",
   "metadata": {},
   "source": [
    "### Run the model"
   ]
  },
  {
   "cell_type": "code",
   "execution_count": null,
   "id": "39b56d4a-8ce2-4b1a-a88b-bc4ff1062c30",
   "metadata": {},
   "outputs": [],
   "source": [
    "sim.run_simulation()"
   ]
  },
  {
   "cell_type": "markdown",
   "id": "b50376df-72cd-46e2-84b7-be94715781ce",
   "metadata": {},
   "source": [
    "## Post-process the compaction results"
   ]
  },
  {
   "cell_type": "code",
   "execution_count": null,
   "id": "547dfa41-002f-425d-b7d1-53f06d604c83",
   "metadata": {},
   "outputs": [],
   "source": [
    "plot_tags = (\n",
    "    \"W1L\",\n",
    "    \"W2L\",\n",
    "    \"S1L\",\n",
    "    \"S2L\",\n",
    "    \"C1L\",\n",
    "    \"C2L\",\n",
    ")\n",
    "compaction_heading = (\"row 9, column 10\", \"row 12, column 7\")"
   ]
  },
  {
   "cell_type": "code",
   "execution_count": null,
   "id": "17cb7341-d8a8-4ad9-a0c0-4d8e7e4f9278",
   "metadata": {},
   "outputs": [],
   "source": [
    "stress_obs = gwf.csub.output.obs().data\n",
    "stress_obs[\"totim\"] /= 365.25\n",
    "\n",
    "# set initial preconsolidation stress to stress period 1 value\n",
    "slist = [name for name in stress_obs.dtype.names if \"PC\" in name]\n",
    "for tag in slist:\n",
    "    stress_obs[tag][0] = stress_obs[tag][1]\n",
    "\n",
    "# set initial storativity to stress period 1 value\n",
    "sk_tags = (\n",
    "    \"SK1L2\",\n",
    "    \"SK2L4\",\n",
    ")\n",
    "for tag in sk_tags:\n",
    "    if tag in stress_obs.dtype.names:\n",
    "        stress_obs[tag][0] = stress_obs[tag][1]"
   ]
  },
  {
   "cell_type": "code",
   "execution_count": null,
   "id": "777290e0-6e56-4d02-9dd9-b17f0f8880e9",
   "metadata": {},
   "outputs": [],
   "source": [
    "comp_obs = stress_obs.copy()\n",
    "for tag in plot_tags:\n",
    "    for k in (\n",
    "        3,\n",
    "        2,\n",
    "        1,\n",
    "    ):\n",
    "        tag0 = f\"{tag}{k}\"\n",
    "        tag1 = f\"{tag}{k + 1}\"\n",
    "        comp_obs[tag0] += comp_obs[tag1]"
   ]
  },
  {
   "cell_type": "markdown",
   "id": "564ffcbf-2d31-42e5-9ab7-d631d5fa11a3",
   "metadata": {},
   "source": [
    "### Plot the stresses"
   ]
  },
  {
   "cell_type": "code",
   "execution_count": null,
   "id": "153787c2-60d6-43e3-90a1-2be72a373a95",
   "metadata": {},
   "outputs": [],
   "source": [
    "tmax = stress_obs[\"totim\"][-1]\n",
    "\n",
    "with flopy.plot.styles.USGSPlot():\n",
    "    fig, axes = plt.subplots(\n",
    "        ncols=1,\n",
    "        nrows=4,\n",
    "        figsize=(6.8, 5.5),\n",
    "        sharex=True,\n",
    "        constrained_layout=True,\n",
    "    )\n",
    "\n",
    "    idx = 0\n",
    "    ax = axes[idx]\n",
    "    ax.set_xlim(0, tmax)\n",
    "    ax.set_ylim(110, 150)\n",
    "    ax.plot(\n",
    "        stress_obs[\"totim\"],\n",
    "        stress_obs[\"PC1\"],\n",
    "        color=\"blue\",\n",
    "        lw=1,\n",
    "        label=\"Preconsolidation stress\",\n",
    "    )\n",
    "    ax.plot(\n",
    "        stress_obs[\"totim\"],\n",
    "        stress_obs[\"ES1\"],\n",
    "        color=\"red\",\n",
    "        lw=1,\n",
    "        label=\"Effective stress\",\n",
    "    )\n",
    "    flopy.plot.styles.heading(\n",
    "        ax, letter=\"A\", heading=\"Model layer 1, row 9, column 10\"\n",
    "    )\n",
    "\n",
    "    idx += 1\n",
    "    ax = axes[idx]\n",
    "    ax.set_ylim(185, 205)\n",
    "    ax.plot(stress_obs[\"totim\"], stress_obs[\"GS1\"], color=\"black\", lw=1)\n",
    "    flopy.plot.styles.heading(\n",
    "        ax, letter=\"B\", heading=\"Model layer 1, row 9, column 10\"\n",
    "    )\n",
    "\n",
    "    idx += 1\n",
    "    ax = axes[idx]\n",
    "    ax.set_ylim(270, 310)\n",
    "    ax.plot(stress_obs[\"totim\"], stress_obs[\"PC2\"], color=\"blue\", lw=1)\n",
    "    ax.plot(stress_obs[\"totim\"], stress_obs[\"ES2\"], color=\"red\", lw=1)\n",
    "    flopy.plot.styles.heading(\n",
    "        ax, letter=\"C\", heading=\"Model layer 2, row 9, column 10\"\n",
    "    )\n",
    "\n",
    "    idx += 1\n",
    "    ax = axes[idx]\n",
    "    ax.set_ylim(495, 515)\n",
    "    ax.plot(\n",
    "        [-100, -50],\n",
    "        [-100, -100],\n",
    "        color=\"blue\",\n",
    "        lw=1,\n",
    "        label=\"Preconsolidation stress\",\n",
    "    )\n",
    "    ax.plot(\n",
    "        [-100, -50], [-100, -100], color=\"red\", lw=1, label=\"Effective stress\"\n",
    "    )\n",
    "    ax.plot(\n",
    "        stress_obs[\"totim\"],\n",
    "        stress_obs[\"GS2\"],\n",
    "        color=\"black\",\n",
    "        lw=1,\n",
    "        label=\"Geostatic stress\",\n",
    "    )\n",
    "    flopy.plot.styles.graph_legend(\n",
    "        ax,\n",
    "        ncol=1,\n",
    "    )\n",
    "    flopy.plot.styles.heading(\n",
    "        ax, letter=\"D\", heading=\"Model layer 2, row 9, column 10\"\n",
    "    )\n",
    "    ax.set_xlabel(\"Simulation time, in years\")\n",
    "    ax.set_ylabel(\" \")\n",
    "\n",
    "    ax = fig.add_subplot(111, frame_on=False, xticks=[], yticks=[])\n",
    "    ax.set_ylabel(\"Stress, in meters of water\")"
   ]
  },
  {
   "cell_type": "markdown",
   "id": "e840ba36-7214-4366-9ad8-4c7cd25b319a",
   "metadata": {},
   "source": [
    "### Plot the compaction"
   ]
  },
  {
   "cell_type": "code",
   "execution_count": null,
   "id": "f02d8235-f9ba-471c-9499-2d2c99c70a5b",
   "metadata": {},
   "outputs": [],
   "source": [
    "# helper function to plot compaction for each layer\n",
    "def plot_compaction_values(ax, tagbase=\"W1L\"):\n",
    "    colors = [\"#FFF8DC\", \"#D2B48C\", \"#CD853F\", \"#8B4513\"][::-1]\n",
    "    for k in range(nlay):\n",
    "        fc = colors[k]\n",
    "        tag = f\"{tagbase}{k + 1}\"\n",
    "        label = f\"Layer {k + 1}\"\n",
    "        ax.fill_between(\n",
    "            comp_obs[\"totim\"], comp_obs[tag], y2=0, color=fc, label=label\n",
    "        )"
   ]
  },
  {
   "cell_type": "code",
   "execution_count": null,
   "id": "bdaad972-2556-4e18-beb7-33eb2a9fe44b",
   "metadata": {},
   "outputs": [],
   "source": [
    "with flopy.plot.styles.USGSPlot():\n",
    "    name = sim.name\n",
    "\n",
    "    fig, axes = plt.subplots(\n",
    "        ncols=2,\n",
    "        nrows=3,\n",
    "        figsize=(6.8, 5.5),\n",
    "        sharex=True,\n",
    "        constrained_layout=True,\n",
    "    )\n",
    "    axes = axes.flatten()\n",
    "\n",
    "    idx = 0\n",
    "    ax = axes[idx]\n",
    "    ax.set_xlim(0, 120)\n",
    "    ax.set_ylim(0, 1)\n",
    "    plot_compaction_values(ax, tagbase=plot_tags[idx])\n",
    "    ht = f\"Interbed compaction\\n{compaction_heading[0]}\"\n",
    "    flopy.plot.styles.heading(ax, letter=\"A\", heading=ht)\n",
    "\n",
    "    idx += 1\n",
    "    ax = axes[idx]\n",
    "    ax.set_ylim(0, 1)\n",
    "    plot_compaction_values(ax, tagbase=plot_tags[idx])\n",
    "    ht = f\"Interbed compaction\\n{compaction_heading[1]}\"\n",
    "    flopy.plot.styles.heading(ax, letter=\"B\", heading=ht)\n",
    "\n",
    "    idx += 1\n",
    "    ax = axes[idx]\n",
    "    ax.set_ylim(0, 1)\n",
    "    plot_compaction_values(ax, tagbase=plot_tags[idx])\n",
    "    ht = f\"Coarse-grained compaction\\n{compaction_heading[0]}\"\n",
    "    flopy.plot.styles.heading(ax, letter=\"C\", heading=ht)\n",
    "\n",
    "    idx += 1\n",
    "    ax = axes[idx]\n",
    "    ax.set_ylim(0, 1)\n",
    "    plot_compaction_values(ax, tagbase=plot_tags[idx])\n",
    "    ht = f\"Coarse-grained compaction\\n{compaction_heading[1]}\"\n",
    "    flopy.plot.styles.heading(ax, letter=\"D\", heading=ht)\n",
    "    flopy.plot.styles.graph_legend(ax, ncol=2, loc=\"lower right\")\n",
    "\n",
    "    idx += 1\n",
    "    ax = axes[idx]\n",
    "    ax.set_ylim(0, 1)\n",
    "    plot_compaction_values(ax, tagbase=plot_tags[idx])\n",
    "    ht = f\"Total compaction\\n{compaction_heading[0]}\"\n",
    "    flopy.plot.styles.heading(ax, letter=\"E\", heading=ht)\n",
    "    ax.set_ylabel(\" \")\n",
    "    ax.set_xlabel(\" \")\n",
    "\n",
    "    idx += 1\n",
    "    ax = axes.flat[idx]\n",
    "    ax.set_ylim(0, 1)\n",
    "    plot_compaction_values(ax, tagbase=plot_tags[idx])\n",
    "    ht = f\"Total compaction\\n{compaction_heading[1]}\"\n",
    "    flopy.plot.styles.heading(ax, letter=\"F\", heading=ht)\n",
    "\n",
    "    ax = fig.add_subplot(111, frame_on=False, xticks=[], yticks=[])\n",
    "    ax.set_ylabel(\n",
    "        \"Downward vertical displacement at the top of the model layer, in meters\"\n",
    "    )\n",
    "    ax.set_xlabel(\"Simulation time, in years\")"
   ]
  },
  {
   "cell_type": "code",
   "execution_count": null,
   "id": "0d0a9067-acec-4919-b8fb-3ab8e92fd854",
   "metadata": {},
   "outputs": [],
   "source": []
  }
 ],
 "metadata": {
  "kernelspec": {
   "display_name": "Python 3 (ipykernel)",
   "language": "python",
   "name": "python3"
  }
 },
 "nbformat": 4,
 "nbformat_minor": 5
}
